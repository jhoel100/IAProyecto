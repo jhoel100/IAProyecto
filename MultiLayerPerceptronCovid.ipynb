{
 "cells": [
  {
   "cell_type": "code",
   "execution_count": 45,
   "metadata": {},
   "outputs": [
    {
     "name": "stdout",
     "output_type": "stream",
     "text": [
      "Image Data Shape (284, 50, 50, 1)\n",
      "Label Data Shape 284\n",
      "0.7543859649122807\n",
      "[[ 5 13]\n",
      " [ 1 38]]\n",
      "Number of Correct predicted: 43 of 57\n",
      "0.7543859649122807\n"
     ]
    },
    {
     "data": {
      "text/plain": [
       "0.6305555555555555"
      ]
     },
     "execution_count": 45,
     "metadata": {},
     "output_type": "execute_result"
    },
    {
     "data": {
      "image/png": "[encoded data removed]",
      "text/plain": [
       "<Figure size 648x648 with 2 Axes>"
      ]
     },
     "metadata": {
      "needs_background": "light"
     },
     "output_type": "display_data"
    }
   ],
   "source": [
    "import tensorflow as tf\n",
    "from tensorflow import keras\n",
    "import numpy as np\n",
    "import matplotlib.pyplot as plt\n",
    "\n",
    "import pickle\n",
    "\n",
    "pickle_in = open(\"X.pickle\",\"rb\")\n",
    "X = pickle.load(pickle_in)\n",
    "\n",
    "pickle_in = open(\"Y.pickle\",\"rb\")\n",
    "Y = pickle.load(pickle_in)\n",
    "\n",
    "X = X/255.0\n",
    "\n",
    "tam=len(Y)\n",
    "\n",
    "print(\"Image Data Shape\" , X.shape)\n",
    "print(\"Label Data Shape\", len(Y))\n",
    "\n",
    "from sklearn.model_selection import train_test_split\n",
    "\n",
    "x_train, x_test, y_train, y_test = train_test_split(X.reshape(tam,-1),Y, test_size=0.2, random_state=0)\n",
    "\n",
    "from sklearn.neural_network import MLPClassifier\n",
    "mlperceptron = MLPClassifier(solver='sgd', hidden_layer_sizes=(25), activation='logistic',max_iter=500, early_stopping=True)\n",
    "\n",
    "mlperceptron.fit(x_train, y_train)\n",
    "\n",
    "predictions = mlperceptron.predict(x_test)\n",
    "\n",
    "score = mlperceptron.score(x_test, y_test)\n",
    "print(score)\n",
    "\n",
    "import matplotlib.pyplot as plt\n",
    "import seaborn as sns\n",
    "from sklearn import metrics\n",
    "\n",
    "cm = metrics.confusion_matrix(y_test, predictions)\n",
    "print(cm)\n",
    "\n",
    "plt.figure(figsize=(9,9))\n",
    "sns.heatmap(cm, annot=True, fmt=\".3f\", linewidths=.5, square = True, cmap = 'Blues_r');\n",
    "plt.ylabel('Actual label');\n",
    "plt.xlabel('Predicted label');\n",
    "all_sample_title = 'Accuracy Score: {0}'.format(score)\n",
    "plt.title(all_sample_title, size = 15);\n",
    "\n",
    "from sklearn.metrics import accuracy_score\n",
    "acc = accuracy_score(y_test, predictions, normalize=False)\n",
    "print(\"Number of Correct predicted: \" + str(acc) +\" of \"+ str(len(y_test)))\n",
    "print(acc / len(y_test))\n",
    "\n",
    "from sklearn.metrics import f1_score\n",
    "f1_score(y_test, predictions, average='macro')"
   ]
  },
  {
   "cell_type": "code",
   "execution_count": null,
   "metadata": {},
   "outputs": [],
   "source": []
  },
  {
   "cell_type": "code",
   "execution_count": null,
   "metadata": {},
   "outputs": [],
   "source": []
  }
 ],
 "metadata": {
  "kernelspec": {
   "display_name": "Python 3",
   "language": "python",
   "name": "python3"
  },
  "language_info": {
   "codemirror_mode": {
    "name": "ipython",
    "version": 3
   },
   "file_extension": ".py",
   "mimetype": "text/x-python",
   "name": "python",
   "nbconvert_exporter": "python",
   "pygments_lexer": "ipython3",
   "version": "3.7.6"
  }
 },
 "nbformat": 4,
 "nbformat_minor": 4
}
