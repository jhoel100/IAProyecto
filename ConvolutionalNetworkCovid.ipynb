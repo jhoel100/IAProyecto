{
 "cells": [
  {
   "cell_type": "code",
   "execution_count": 2,
   "metadata": {},
   "outputs": [
    {
     "name": "stdout",
     "output_type": "stream",
     "text": [
      "Train on 198 samples, validate on 86 samples\n",
      "Epoch 1/10\n",
      "198/198 [==============================] - 4s 21ms/sample - loss: 0.8894 - acc: 0.6061 - val_loss: 0.9926 - val_acc: 0.6279\n",
      "Epoch 2/10\n",
      "198/198 [==============================] - 4s 19ms/sample - loss: 0.5703 - acc: 0.7172 - val_loss: 0.5089 - val_acc: 0.6279\n",
      "Epoch 3/10\n",
      "198/198 [==============================] - 4s 19ms/sample - loss: 0.3814 - acc: 0.8232 - val_loss: 0.3792 - val_acc: 0.7674\n",
      "Epoch 4/10\n",
      "198/198 [==============================] - 4s 19ms/sample - loss: 0.2525 - acc: 0.8737 - val_loss: 0.4662 - val_acc: 0.7558\n",
      "Epoch 5/10\n",
      "198/198 [==============================] - 4s 19ms/sample - loss: 0.2242 - acc: 0.8838 - val_loss: 0.3740 - val_acc: 0.8721\n",
      "Epoch 6/10\n",
      "198/198 [==============================] - 4s 19ms/sample - loss: 0.1904 - acc: 0.8990 - val_loss: 0.3861 - val_acc: 0.8953\n",
      "Epoch 7/10\n",
      "198/198 [==============================] - 4s 19ms/sample - loss: 0.2004 - acc: 0.9141 - val_loss: 0.4438 - val_acc: 0.7326\n",
      "Epoch 8/10\n",
      "198/198 [==============================] - 4s 19ms/sample - loss: 0.1953 - acc: 0.8889 - val_loss: 0.3767 - val_acc: 0.8605\n",
      "Epoch 9/10\n",
      "198/198 [==============================] - 4s 19ms/sample - loss: 0.1690 - acc: 0.9242 - val_loss: 0.3984 - val_acc: 0.8372\n",
      "Epoch 10/10\n",
      "198/198 [==============================] - 4s 19ms/sample - loss: 0.1619 - acc: 0.9141 - val_loss: 0.3422 - val_acc: 0.9302\n"
     ]
    },
    {
     "data": {
      "text/plain": [
       "<tensorflow.python.keras.callbacks.History at 0x2e20246b948>"
      ]
     },
     "execution_count": 2,
     "metadata": {},
     "output_type": "execute_result"
    }
   ],
   "source": [
    "import tensorflow as tf\n",
    "from tensorflow.keras.datasets import cifar10\n",
    "from tensorflow.keras.preprocessing.image import ImageDataGenerator\n",
    "from tensorflow.keras.models import Sequential\n",
    "from tensorflow.keras.layers import Dense, Dropout, Activation, Flatten\n",
    "from tensorflow.keras.layers import Conv2D, MaxPooling2D\n",
    "\n",
    "import pickle\n",
    "\n",
    "pickle_in = open(\"X.pickle\",\"rb\")\n",
    "X = pickle.load(pickle_in)\n",
    "\n",
    "pickle_in = open(\"Y.pickle\",\"rb\")\n",
    "Y = pickle.load(pickle_in)\n",
    "\n",
    "X = X/255.0\n",
    "\n",
    "model = Sequential()\n",
    "\n",
    "model.add(Conv2D(256, (3, 3), input_shape=X.shape[1:]))\n",
    "model.add(Activation('relu'))\n",
    "model.add(MaxPooling2D(pool_size=(2, 2)))\n",
    "\n",
    "model.add(Conv2D(256, (3, 3)))\n",
    "model.add(Activation('relu'))\n",
    "model.add(MaxPooling2D(pool_size=(2, 2)))\n",
    "\n",
    "model.add(Flatten())  # this converts our 3D feature maps to 1D feature vectors\n",
    "\n",
    "model.add(Dense(64))\n",
    "\n",
    "model.add(Dense(1))\n",
    "model.add(Activation('sigmoid'))\n",
    "\n",
    "model.compile(loss='binary_crossentropy',\n",
    "              optimizer='adam',\n",
    "              metrics=['accuracy'])\n",
    "\n",
    "model.fit(X, Y, batch_size=32, epochs=10, validation_split=0.3)\n"
   ]
  },
  {
   "cell_type": "code",
   "execution_count": null,
   "metadata": {},
   "outputs": [],
   "source": []
  }
 ],
 "metadata": {
  "kernelspec": {
   "display_name": "Python 3",
   "language": "python",
   "name": "python3"
  },
  "language_info": {
   "codemirror_mode": {
    "name": "ipython",
    "version": 3
   },
   "file_extension": ".py",
   "mimetype": "text/x-python",
   "name": "python",
   "nbconvert_exporter": "python",
   "pygments_lexer": "ipython3",
   "version": "3.7.6"
  }
 },
 "nbformat": 4,
 "nbformat_minor": 4
}
