{
 "cells": [
  {
   "cell_type": "code",
   "execution_count": 3,
   "metadata": {},
   "outputs": [
    {
     "name": "stdout",
     "output_type": "stream",
     "text": [
      "Train on 198 samples, validate on 86 samples\n",
      "Epoch 1/20\n",
      "198/198 [==============================] - 1s 4ms/sample - loss: 0.6228 - acc: 0.6717 - val_loss: 0.5481 - val_acc: 0.7326\n",
      "Epoch 2/20\n",
      "198/198 [==============================] - 1s 3ms/sample - loss: 0.5085 - acc: 0.6717 - val_loss: 0.4834 - val_acc: 0.8256\n",
      "Epoch 3/20\n",
      "198/198 [==============================] - 1s 3ms/sample - loss: 0.4242 - acc: 0.8687 - val_loss: 0.4251 - val_acc: 0.7674\n",
      "Epoch 4/20\n",
      "198/198 [==============================] - 0s 2ms/sample - loss: 0.3244 - acc: 0.8586 - val_loss: 0.3623 - val_acc: 0.8256\n",
      "Epoch 5/20\n",
      "198/198 [==============================] - 0s 2ms/sample - loss: 0.2758 - acc: 0.8889 - val_loss: 0.3693 - val_acc: 0.8605\n",
      "Epoch 6/20\n",
      "198/198 [==============================] - 1s 3ms/sample - loss: 0.2504 - acc: 0.9192 - val_loss: 0.3266 - val_acc: 0.8605\n",
      "Epoch 7/20\n",
      "198/198 [==============================] - 0s 2ms/sample - loss: 0.2082 - acc: 0.9242 - val_loss: 0.2747 - val_acc: 0.8721\n",
      "Epoch 8/20\n",
      "198/198 [==============================] - 0s 2ms/sample - loss: 0.1852 - acc: 0.9495 - val_loss: 0.2754 - val_acc: 0.8605\n",
      "Epoch 9/20\n",
      "198/198 [==============================] - 1s 3ms/sample - loss: 0.1648 - acc: 0.9444 - val_loss: 0.2481 - val_acc: 0.8837\n",
      "Epoch 10/20\n",
      "198/198 [==============================] - 0s 2ms/sample - loss: 0.1510 - acc: 0.9444 - val_loss: 0.2566 - val_acc: 0.8837\n",
      "Epoch 11/20\n",
      "198/198 [==============================] - 1s 3ms/sample - loss: 0.1460 - acc: 0.9444 - val_loss: 0.2714 - val_acc: 0.8953\n",
      "Epoch 12/20\n",
      "198/198 [==============================] - 1s 3ms/sample - loss: 0.1291 - acc: 0.9394 - val_loss: 0.2529 - val_acc: 0.8953\n",
      "Epoch 13/20\n",
      "198/198 [==============================] - 1s 3ms/sample - loss: 0.1295 - acc: 0.9394 - val_loss: 0.2890 - val_acc: 0.9070\n",
      "Epoch 14/20\n",
      "198/198 [==============================] - 1s 3ms/sample - loss: 0.1183 - acc: 0.9545 - val_loss: 0.3470 - val_acc: 0.8837\n",
      "Epoch 15/20\n",
      "198/198 [==============================] - 0s 2ms/sample - loss: 0.1466 - acc: 0.9495 - val_loss: 0.2973 - val_acc: 0.8953\n",
      "Epoch 16/20\n",
      "198/198 [==============================] - 1s 3ms/sample - loss: 0.0986 - acc: 0.9596 - val_loss: 0.3270 - val_acc: 0.8953\n",
      "Epoch 17/20\n",
      "198/198 [==============================] - 1s 3ms/sample - loss: 0.0825 - acc: 0.9747 - val_loss: 0.3498 - val_acc: 0.8953\n",
      "Epoch 18/20\n",
      "198/198 [==============================] - 0s 2ms/sample - loss: 0.0757 - acc: 0.9798 - val_loss: 0.4190 - val_acc: 0.8953\n",
      "Epoch 19/20\n",
      "198/198 [==============================] - 1s 3ms/sample - loss: 0.0782 - acc: 0.9697 - val_loss: 0.3932 - val_acc: 0.8953\n",
      "Epoch 20/20\n",
      "198/198 [==============================] - 0s 2ms/sample - loss: 0.0901 - acc: 0.9646 - val_loss: 0.3463 - val_acc: 0.9186\n"
     ]
    },
    {
     "data": {
      "text/plain": [
       "<tensorflow.python.keras.callbacks.History at 0x1d417ea22c8>"
      ]
     },
     "execution_count": 3,
     "metadata": {},
     "output_type": "execute_result"
    }
   ],
   "source": [
    "\n",
    "import tensorflow as tf\n",
    "from tensorflow.keras.datasets import cifar10\n",
    "from tensorflow.keras.preprocessing.image import ImageDataGenerator\n",
    "from tensorflow.keras.models import Sequential\n",
    "from tensorflow.keras.layers import Dense, Dropout, Activation, Flatten\n",
    "from tensorflow.keras.layers import Conv2D, MaxPooling2D\n",
    "\n",
    "import pickle\n",
    "\n",
    "pickle_in = open(\"X.pickle\",\"rb\")\n",
    "X = pickle.load(pickle_in)\n",
    "\n",
    "pickle_in = open(\"Y.pickle\",\"rb\")\n",
    "Y = pickle.load(pickle_in)\n",
    "\n",
    "X = X/255.0\n",
    "\n",
    "model = Sequential()\n",
    "\n",
    "model.add(Conv2D(64, (3, 3), input_shape=X.shape[1:]))\n",
    "model.add(Activation('relu'))\n",
    "model.add(MaxPooling2D(pool_size=(2, 2)))\n",
    "\n",
    "model.add(Conv2D(64, (3, 3)))\n",
    "model.add(Activation('relu'))\n",
    "model.add(MaxPooling2D(pool_size=(2, 2)))\n",
    "\n",
    "model.add(Flatten())  # this converts our 3D feature maps to 1D feature vectors\n",
    "\n",
    "model.add(Dense(64))\n",
    "model.add(Activation('relu'))\n",
    "\n",
    "model.add(Dense(1))\n",
    "model.add(Activation('sigmoid'))\n",
    "\n",
    "model.compile(loss='binary_crossentropy',\n",
    "              optimizer='adam',\n",
    "              metrics=['accuracy'])\n",
    "\n",
    "model.fit(X, Y, batch_size=32, epochs=20, validation_split=0.3)\n"
   ]
  },
  {
   "cell_type": "code",
   "execution_count": null,
   "metadata": {},
   "outputs": [],
   "source": []
  },
  {
   "cell_type": "code",
   "execution_count": null,
   "metadata": {},
   "outputs": [],
   "source": []
  }
 ],
 "metadata": {
  "kernelspec": {
   "display_name": "Python 3",
   "language": "python",
   "name": "python3"
  },
  "language_info": {
   "codemirror_mode": {
    "name": "ipython",
    "version": 3
   },
   "file_extension": ".py",
   "mimetype": "text/x-python",
   "name": "python",
   "nbconvert_exporter": "python",
   "pygments_lexer": "ipython3",
   "version": "3.7.6"
  }
 },
 "nbformat": 4,
 "nbformat_minor": 4
}
